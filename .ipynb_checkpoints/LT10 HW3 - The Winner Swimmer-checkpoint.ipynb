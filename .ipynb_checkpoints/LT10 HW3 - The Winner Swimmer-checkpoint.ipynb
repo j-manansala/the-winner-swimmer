{
 "cells": [
  {
   "cell_type": "markdown",
   "metadata": {},
   "source": [
    "# The Winner Swimmer: Predicting Male Infertility through KNN Classifier\n",
    "<img src=\"picture.png\">"
   ]
  },
  {
   "cell_type": "markdown",
   "metadata": {},
   "source": [
    "# Problem\n",
    "\n",
    "For several decades, **Male fertility** rates have been declining. As Male infertility accounts for [40% of all infertility cases ](https://www.ncbi.nlm.nih.gov/pmc/articles/PMC4691969/) , this downward trend is quite worrying. Low fertility rates are usually associated with [diminished economic growth](https://www.nber.org/digest/jul09/w14820.html) particularly due to a decline in workers per capita. This decrease in labor supply would especially be felt in countries where the elderly are already retired and receive social security from the government.\n",
    "\n",
    "The factors that determine fertility rates are varied, ranging from [culture, cost of raising children, and urbanization](https://www.ncbi.nlm.nih.gov/pmc/articles/PMC4255510/#:~:text=The%20social%20structure%2C%20religious%20beliefs,rates%20are%20low%2C%20birth%20control). These factors all require long term solutions which will be quite costly. One factor that can be tackled straightforward though is medical infertility, as factors such as those previously mentioned affect a persons choice and not their ability to have children. \n",
    "\n",
    "People who are infertile for medical reasons can be given treatment to help them become fertile. This task would be much easier for governments to do as compared to changing a country's culture or providing education subsidies. However, to be able to treat infertility we must be able to **diagnose it**. \n",
    "\n",
    "Conducting a mass fertility test on an entire population can be quite costly, both in the collection phase as well as the testing phase. However, If we are able to gather information that has a high correlation with fertility then it would simply be a matter of databasing patient records and running algorithms to identify potential infertile subjects. The factors we look at in this notebook are **environment**, **medical history**, and **lifestyle**. These factors have been studied with [artificial intelligence and have shown promising results](https://www.lunduniversity.lu.se/lup/publication/a53191fb-fa38-4d82-8f8a-d382253e0915).\n",
    "\n",
    "The problem would then be to see if there are any variables that are strongly correlated with infertility and if a Machine Learning algorithm would be able to accurately predict if a person is **fertile** or **infertile**."
   ]
  },
  {
   "cell_type": "markdown",
   "metadata": {},
   "source": [
    "## Highlights\n",
    "\n",
    "Three Highlights of the k-NN Classifier are:\n",
    "\n",
    "1. Smoking has the highest sensitivity that can deteriorate fertility in men.\n",
    "2. Historic medical complications\\* affect fertility as high as smoking does.\n",
    "3. Alcohol intake didn’t yield high sensitivity to influence male fertility.\n",
    "\n",
    "\n",
    "*<i><sup>Prolonged high fever, child diseases (mumps, measles, and others), surgical intervention</sup></i>"
   ]
  },
  {
   "cell_type": "code",
   "execution_count": 1,
   "metadata": {
    "ExecuteTime": {
     "end_time": "2020-06-16T12:16:31.526302Z",
     "start_time": "2020-06-16T12:16:29.103416Z"
    }
   },
   "outputs": [],
   "source": [
    "import numpy as np\n",
    "import matplotlib.pyplot as plt\n",
    "import pandas as pd\n",
    "from collections import Counter\n",
    "from sklearn import datasets\n",
    "from sklearn.model_selection import train_test_split, cross_val_score\n",
    "from sklearn.neighbors import KNeighborsClassifier\n",
    "\n",
    "%matplotlib inline"
   ]
  },
  {
   "cell_type": "code",
   "execution_count": 2,
   "metadata": {
    "ExecuteTime": {
     "end_time": "2020-06-16T12:16:31.551234Z",
     "start_time": "2020-06-16T12:16:31.529015Z"
    }
   },
   "outputs": [
    {
     "data": {
      "text/html": [
       "<div>\n",
       "<style scoped>\n",
       "    .dataframe tbody tr th:only-of-type {\n",
       "        vertical-align: middle;\n",
       "    }\n",
       "\n",
       "    .dataframe tbody tr th {\n",
       "        vertical-align: top;\n",
       "    }\n",
       "\n",
       "    .dataframe thead th {\n",
       "        text-align: right;\n",
       "    }\n",
       "</style>\n",
       "<table border=\"1\" class=\"dataframe\">\n",
       "  <thead>\n",
       "    <tr style=\"text-align: right;\">\n",
       "      <th></th>\n",
       "      <th>season</th>\n",
       "      <th>age</th>\n",
       "      <th>childish_disease</th>\n",
       "      <th>Acc_trauma</th>\n",
       "      <th>surgical_int</th>\n",
       "      <th>high_fevers</th>\n",
       "      <th>alcohol_freq</th>\n",
       "      <th>smoking</th>\n",
       "      <th>sitting_hours</th>\n",
       "      <th>target</th>\n",
       "    </tr>\n",
       "  </thead>\n",
       "  <tbody>\n",
       "    <tr>\n",
       "      <th>0</th>\n",
       "      <td>-0.33</td>\n",
       "      <td>0.69</td>\n",
       "      <td>0</td>\n",
       "      <td>1</td>\n",
       "      <td>1</td>\n",
       "      <td>0</td>\n",
       "      <td>0.8</td>\n",
       "      <td>0</td>\n",
       "      <td>0.88</td>\n",
       "      <td>N</td>\n",
       "    </tr>\n",
       "    <tr>\n",
       "      <th>1</th>\n",
       "      <td>-0.33</td>\n",
       "      <td>0.94</td>\n",
       "      <td>1</td>\n",
       "      <td>0</td>\n",
       "      <td>1</td>\n",
       "      <td>0</td>\n",
       "      <td>0.8</td>\n",
       "      <td>1</td>\n",
       "      <td>0.31</td>\n",
       "      <td>O</td>\n",
       "    </tr>\n",
       "    <tr>\n",
       "      <th>2</th>\n",
       "      <td>-0.33</td>\n",
       "      <td>0.50</td>\n",
       "      <td>1</td>\n",
       "      <td>0</td>\n",
       "      <td>0</td>\n",
       "      <td>0</td>\n",
       "      <td>1.0</td>\n",
       "      <td>-1</td>\n",
       "      <td>0.50</td>\n",
       "      <td>N</td>\n",
       "    </tr>\n",
       "    <tr>\n",
       "      <th>3</th>\n",
       "      <td>-0.33</td>\n",
       "      <td>0.75</td>\n",
       "      <td>0</td>\n",
       "      <td>1</td>\n",
       "      <td>1</td>\n",
       "      <td>0</td>\n",
       "      <td>1.0</td>\n",
       "      <td>-1</td>\n",
       "      <td>0.38</td>\n",
       "      <td>N</td>\n",
       "    </tr>\n",
       "    <tr>\n",
       "      <th>4</th>\n",
       "      <td>-0.33</td>\n",
       "      <td>0.67</td>\n",
       "      <td>1</td>\n",
       "      <td>1</td>\n",
       "      <td>0</td>\n",
       "      <td>0</td>\n",
       "      <td>0.8</td>\n",
       "      <td>-1</td>\n",
       "      <td>0.50</td>\n",
       "      <td>O</td>\n",
       "    </tr>\n",
       "  </tbody>\n",
       "</table>\n",
       "</div>"
      ],
      "text/plain": [
       "   season   age  childish_disease  Acc_trauma  surgical_int  high_fevers  \\\n",
       "0   -0.33  0.69                 0           1             1            0   \n",
       "1   -0.33  0.94                 1           0             1            0   \n",
       "2   -0.33  0.50                 1           0             0            0   \n",
       "3   -0.33  0.75                 0           1             1            0   \n",
       "4   -0.33  0.67                 1           1             0            0   \n",
       "\n",
       "   alcohol_freq  smoking  sitting_hours target  \n",
       "0           0.8        0           0.88      N  \n",
       "1           0.8        1           0.31      O  \n",
       "2           1.0       -1           0.50      N  \n",
       "3           1.0       -1           0.38      N  \n",
       "4           0.8       -1           0.50      O  "
      ]
     },
     "execution_count": 2,
     "metadata": {},
     "output_type": "execute_result"
    }
   ],
   "source": [
    "column_names=['season', 'age', 'childish_disease', 'Acc_trauma', \n",
    "              'surgical_int', 'high_fevers', 'alcohol_freq', 'smoking', \n",
    "              'sitting_hours', 'target']\n",
    "df = pd.read_csv('fertility_Diagnosis.txt', header=None, names=column_names)\n",
    "df.head()"
   ]
  },
  {
   "cell_type": "markdown",
   "metadata": {},
   "source": [
    "### Custom Functions\n",
    "\n",
    "1. `knn_dataset`\n",
    "2. `plot_accuracy`"
   ]
  },
  {
   "cell_type": "code",
   "execution_count": 3,
   "metadata": {
    "ExecuteTime": {
     "end_time": "2020-06-16T12:16:31.559403Z",
     "start_time": "2020-06-16T12:16:31.553861Z"
    }
   },
   "outputs": [],
   "source": [
    "def knn_dataset(features, targets, rstate=None, n_count=10, tsize=0.25):\n",
    "    X_train, X_test, y_train, y_test = \\\n",
    "        train_test_split(features, targets, \n",
    "                         test_size=tsize, random_state=rstate)\n",
    "\n",
    "    training_accuracy = []\n",
    "    test_accuracy = []\n",
    "    neighbors_settings = range(1, n_count + 1)\n",
    "\n",
    "    for n_neighbors in neighbors_settings:\n",
    "        clf = KNeighborsClassifier(n_neighbors=n_neighbors)\n",
    "        clf.fit(X_train, y_train)\n",
    "        training_accuracy.append(clf.score(X_train, y_train))\n",
    "        test_accuracy.append(clf.score(X_test, y_test))\n",
    "    return training_accuracy, test_accuracy"
   ]
  },
  {
   "cell_type": "code",
   "execution_count": 4,
   "metadata": {
    "ExecuteTime": {
     "end_time": "2020-06-16T12:16:31.569482Z",
     "start_time": "2020-06-16T12:16:31.561281Z"
    }
   },
   "outputs": [],
   "source": [
    "def plot_accuracy(features, targets, n_trials=100, n_neighbors=50):\n",
    "    \n",
    "    training_acc = []\n",
    "    test_acc = []\n",
    "    neighbors_range = range(1, n_neighbors + 1)\n",
    "    \n",
    "    # Loop for trials, changing random_state per trial\n",
    "    for trial in range(n_trials):\n",
    "        res = knn_dataset(features, targets, \n",
    "                          rstate=trial, n_count=n_neighbors)\n",
    "        training_acc.append(res[0])\n",
    "        test_acc.append(res[1])\n",
    "    \n",
    "    training_acc_df = pd.DataFrame(training_acc, columns=neighbors_range)\n",
    "    test_acc_df = pd.DataFrame(test_acc, columns=neighbors_range)\n",
    "    \n",
    "    # Plotting\n",
    "    fig = plt.figure(figsize=(10, 6))\n",
    "    plt.errorbar(neighbors_range, training_acc_df.mean(), \n",
    "                 yerr=training_acc_df.std(), fmt='.-', \n",
    "                 label='training accuracy', alpha=0.7)\n",
    "    \n",
    "    plt.errorbar(neighbors_range, test_acc_df.mean(),\n",
    "                 yerr=training_acc_df.std(), fmt='.-',\n",
    "                 label='test accuracy', alpha=0.7)\n",
    "    \n",
    "    plt.ylabel(\"Accuracy\")\n",
    "    plt.xlabel(\"n_neighbors\")\n",
    "    plt.legend()\n",
    "    plt.show()"
   ]
  },
  {
   "cell_type": "markdown",
   "metadata": {},
   "source": [
    "## EDA and KNN Implementation on the Fertility Dataset"
   ]
  },
  {
   "cell_type": "code",
   "execution_count": 5,
   "metadata": {
    "ExecuteTime": {
     "end_time": "2020-06-16T12:16:31.582774Z",
     "start_time": "2020-06-16T12:16:31.571069Z"
    }
   },
   "outputs": [
    {
     "name": "stdout",
     "output_type": "stream",
     "text": [
      "The dataset shape: (100, 10)\n",
      "\n",
      "Checking for nulls...\n",
      "season              False\n",
      "age                 False\n",
      "childish_disease    False\n",
      "Acc_trauma          False\n",
      "surgical_int        False\n",
      "high_fevers         False\n",
      "alcohol_freq        False\n",
      "smoking             False\n",
      "sitting_hours       False\n",
      "target              False\n",
      "dtype: bool\n",
      "\n",
      "Data type of each column:\n",
      "\n",
      "<class 'pandas.core.frame.DataFrame'>\n",
      "RangeIndex: 100 entries, 0 to 99\n",
      "Data columns (total 10 columns):\n",
      " #   Column            Non-Null Count  Dtype  \n",
      "---  ------            --------------  -----  \n",
      " 0   season            100 non-null    float64\n",
      " 1   age               100 non-null    float64\n",
      " 2   childish_disease  100 non-null    int64  \n",
      " 3   Acc_trauma        100 non-null    int64  \n",
      " 4   surgical_int      100 non-null    int64  \n",
      " 5   high_fevers       100 non-null    int64  \n",
      " 6   alcohol_freq      100 non-null    float64\n",
      " 7   smoking           100 non-null    int64  \n",
      " 8   sitting_hours     100 non-null    float64\n",
      " 9   target            100 non-null    object \n",
      "dtypes: float64(4), int64(5), object(1)\n",
      "memory usage: 7.9+ KB\n",
      "None\n"
     ]
    }
   ],
   "source": [
    "print(f\"The dataset shape: {df.shape}\\n\")\n",
    "print(\"Checking for nulls...\")\n",
    "print(df.isnull().any())\n",
    "print(\"\\nData type of each column:\\n\")\n",
    "print(df.info())"
   ]
  },
  {
   "cell_type": "code",
   "execution_count": 6,
   "metadata": {
    "ExecuteTime": {
     "end_time": "2020-06-16T12:16:31.591447Z",
     "start_time": "2020-06-16T12:16:31.584476Z"
    }
   },
   "outputs": [
    {
     "name": "stdout",
     "output_type": "stream",
     "text": [
      "PCC is  0.7888\n",
      "Accuracy to beat* is  0.986\n",
      "*based on 1.25Pcc\n"
     ]
    }
   ],
   "source": [
    "N = df.shape[0]\n",
    "m_count_list = []\n",
    "for i in list(df['target'].unique()):\n",
    "    m_count_list.append(df[df['target'] == i].shape[0])\n",
    "PCC = sum([(m/N)**2 for m in m_count_list])\n",
    "print('PCC is ', PCC)\n",
    "print('Accuracy to beat* is ', PCC * 1.25)\n",
    "print('*based on 1.25Pcc')"
   ]
  },
  {
   "cell_type": "markdown",
   "metadata": {},
   "source": [
    "### KNN Implementation\n",
    "\n",
    "An initial Accuracy vs n_neighbors plot is shown using the `plot_accuracy()` fuction with the following parameters:\n",
    "* 100 trials\n",
    "* train-test split is at 75%-25%\n",
    "* maximum n_neighbors possible with the dataset was exhausted"
   ]
  },
  {
   "cell_type": "code",
   "execution_count": 7,
   "metadata": {
    "ExecuteTime": {
     "end_time": "2020-06-16T12:17:06.749022Z",
     "start_time": "2020-06-16T12:16:31.593308Z"
    }
   },
   "outputs": [
    {
     "data": {
      "image/png": "[encoded data removed]",
      "text/plain": [
       "<Figure size 720x432 with 1 Axes>"
      ]
     },
     "metadata": {
      "needs_background": "light"
     },
     "output_type": "display_data"
    }
   ],
   "source": [
    "features = df[column_names[:-1]]\n",
    "target = df[column_names[-1]]\n",
    "plot_accuracy(features, target)"
   ]
  },
  {
   "cell_type": "markdown",
   "metadata": {},
   "source": [
    "We can observe that at around 2-3 n_neighbors, standard deviations of the training and test accuracy values begin to overlap signaling that the mean difference is approaching insignificance. At higher n_values (> 10) the overlap becomes more consistent and prominent.\n",
    "\n",
    "Looking closely, a plot for the first 10 n_neighbers is shown below."
   ]
  },
  {
   "cell_type": "code",
   "execution_count": 8,
   "metadata": {
    "ExecuteTime": {
     "end_time": "2020-06-16T12:17:13.809488Z",
     "start_time": "2020-06-16T12:17:06.750773Z"
    }
   },
   "outputs": [
    {
     "data": {
      "image/png": "[encoded data removed]",
      "text/plain": [
       "<Figure size 720x432 with 1 Axes>"
      ]
     },
     "metadata": {
      "needs_background": "light"
     },
     "output_type": "display_data"
    }
   ],
   "source": [
    "plot_accuracy(features, target, n_neighbors=10)"
   ]
  },
  {
   "cell_type": "markdown",
   "metadata": {},
   "source": [
    "From these results, **we chose k = 7 nearest neighbors** for the KNN implementation below to show the exact test and train accuracy values for a random trial. However, it can be seen from the plots that **any choice of k beyond that until k = 50 will still yield a desired accuracy above 80%**"
   ]
  },
  {
   "cell_type": "code",
   "execution_count": 9,
   "metadata": {
    "ExecuteTime": {
     "end_time": "2020-06-16T12:17:13.826211Z",
     "start_time": "2020-06-16T12:17:13.811219Z"
    }
   },
   "outputs": [
    {
     "name": "stdout",
     "output_type": "stream",
     "text": [
      "Training Accuracy at 7 nearest neighbors: 0.88\n",
      "Test Accuracy at 7 nearest neighbors: 0.88\n"
     ]
    }
   ],
   "source": [
    "# Split train-test 75-25\n",
    "feat_train, \\\n",
    "feat_test, \\\n",
    "target_train, \\\n",
    "target_test = train_test_split(features, target, test_size=0.25)\n",
    "\n",
    "# Implement KNN and print accuracies\n",
    "clf = KNeighborsClassifier(n_neighbors=7)\n",
    "clf.fit(feat_train, target_train)\n",
    "training_acc = clf.score(feat_train, target_train)\n",
    "test_acc = clf.score(feat_test, target_test)\n",
    "print(f\"Training Accuracy at 7 nearest neighbors: {training_acc}\")\n",
    "print(f\"Test Accuracy at 7 nearest neighbors: {test_acc}\")"
   ]
  },
  {
   "cell_type": "markdown",
   "metadata": {},
   "source": [
    "From one random trial above, we can observe that **the accuracies are already  much higher than the PCC=0.7888**. Replicating this result in more random trials at k = 7 will continue to yield accuracy values within the standard deviation shown in the plots above. These values are well above the target of 80% accuracy of the classifier. \n",
    "\n",
    "Our group observed that the 1.25Pcc is unbeatable using the original dataset. Thus in the section **KNN Classification with Oversampling** below we employed other methods to try to beat the 1.25Pcc."
   ]
  },
  {
   "cell_type": "markdown",
   "metadata": {},
   "source": [
    "### Sensitivity Analysis\n",
    "\n",
    "#### Approach A: Individual KNNs for each Feature\n",
    "To determine the impact of each feature to our model, we conducted a sensitivity analysis by performing individual KNNs (one for each feature-target pair) and solved for the accuracy scores using the `cross_val_score()` funtion. The results are shown below."
   ]
  },
  {
   "cell_type": "code",
   "execution_count": 10,
   "metadata": {
    "ExecuteTime": {
     "end_time": "2020-06-16T12:17:13.958828Z",
     "start_time": "2020-06-16T12:17:13.827711Z"
    }
   },
   "outputs": [
    {
     "name": "stdout",
     "output_type": "stream",
     "text": [
      "Feature\t\tAccuracy\n",
      "0 : 0.69\tseason\n",
      "1 : 0.84\tage\n",
      "2 : 0.88\tchildish_disease\n",
      "3 : 0.80\tAcc_trauma\n",
      "4 : 0.88\tsurgical_int\n",
      "5 : 0.88\thigh_fevers\n",
      "6 : 0.76\talcohol_freq\n",
      "7 : 0.88\tsmoking\n",
      "8 : 0.78\tsitting_hours\n"
     ]
    }
   ],
   "source": [
    "clf = KNeighborsClassifier()\n",
    "feature_names = column_names\n",
    "feature_count = len(column_names) - 1\n",
    "y = df[column_names[-1]]\n",
    "print('Feature\\t\\tAccuracy')\n",
    "\n",
    "for i in range(feature_count):\n",
    "    X = df.iloc[:, i]\n",
    "    X = np.array(X).reshape(X.shape[0], 1)\n",
    "    scores = cross_val_score(clf, X, y)\n",
    "    print(f'{i} : {scores.mean():.2f}\\t{feature_names[i]}')"
   ]
  },
  {
   "cell_type": "markdown",
   "metadata": {},
   "source": [
    "#### Approach B: Accuracy dips\n",
    "Another approach to this sensitivity analysis is **by investigating on accuracy dips as we remove features on by one**."
   ]
  },
  {
   "cell_type": "code",
   "execution_count": 11,
   "metadata": {
    "ExecuteTime": {
     "end_time": "2020-06-16T12:17:14.160597Z",
     "start_time": "2020-06-16T12:17:13.962185Z"
    }
   },
   "outputs": [
    {
     "name": "stdout",
     "output_type": "stream",
     "text": [
      "Accuracy\tFeature removed\n",
      "0 : 0.88\tseason\n",
      "1 : 0.83\tage\n",
      "2 : 0.88\tchildish_disease\n",
      "3 : 0.81\tAcc_trauma\n",
      "4 : 0.87\tsurgical_int\n",
      "5 : 0.83\thigh_fevers\n",
      "6 : 0.83\talcohol_freq\n",
      "7 : 0.84\tsmoking\n",
      "8 : 0.82\tsitting_hours\n"
     ]
    }
   ],
   "source": [
    "clf = KNeighborsClassifier()\n",
    "feature_names = column_names\n",
    "feature_count = len(column_names) - 1\n",
    "y = df[column_names[-1]]\n",
    "print('Accuracy\\tFeature removed')\n",
    "\n",
    "for i in range(feature_count):\n",
    "    X1 = np.atleast_2d(df[column_names[:i]])\n",
    "    X2 = np.atleast_2d(df[column_names[i+1:-1]])\n",
    "    X = np.hstack((X1, X2))\n",
    "    scores = cross_val_score(clf, X, y)\n",
    "    print(f'{i} : {scores.mean():.2f}\\t{feature_names[i]}')"
   ]
  },
  {
   "cell_type": "markdown",
   "metadata": {},
   "source": [
    "This sensitivity analysis can now be a basis on which features are least impactful as predictor in the classification. For example, in the case of our dataset, the feature 'season' showed a very low score on the sensitivity analysis thus functioning as a 'weaker' predictor.\n",
    "\n",
    "Remarkable differences among accuracies of each feature can be seen in the **Approach A** are:\n",
    "* Sitting hours is shown to have a higher accuracy in predicting fertility in men than alcohol consumption\n",
    "* Smoking ranked as high as other medical conditions in terms of its accuracy in prediciting fertility in men."
   ]
  },
  {
   "cell_type": "markdown",
   "metadata": {},
   "source": [
    "## KNN Classification with Oversampling"
   ]
  },
  {
   "cell_type": "code",
   "execution_count": 12,
   "metadata": {
    "ExecuteTime": {
     "end_time": "2020-06-16T12:17:14.172448Z",
     "start_time": "2020-06-16T12:17:14.162706Z"
    }
   },
   "outputs": [
    {
     "data": {
      "text/plain": [
       "(172, 10)"
      ]
     },
     "execution_count": 12,
     "metadata": {},
     "output_type": "execute_result"
    }
   ],
   "source": [
    "df_sample = df.loc[df['target'] == 'O'].sample(72, random_state=1, replace=True)\n",
    "df_oversampled = df.append(df_sample)\n",
    "df_oversampled.shape"
   ]
  },
  {
   "cell_type": "code",
   "execution_count": 13,
   "metadata": {
    "ExecuteTime": {
     "end_time": "2020-06-16T12:17:14.178813Z",
     "start_time": "2020-06-16T12:17:14.174098Z"
    }
   },
   "outputs": [],
   "source": [
    "target = df_oversampled['target']\n",
    "features = df_oversampled[column_names[:-1]]"
   ]
  },
  {
   "cell_type": "code",
   "execution_count": 14,
   "metadata": {
    "ExecuteTime": {
     "end_time": "2020-06-16T12:17:14.185921Z",
     "start_time": "2020-06-16T12:17:14.180483Z"
    }
   },
   "outputs": [
    {
     "data": {
      "text/plain": [
       "N    88\n",
       "O    84\n",
       "Name: target, dtype: int64"
      ]
     },
     "execution_count": 14,
     "metadata": {},
     "output_type": "execute_result"
    }
   ],
   "source": [
    "target.value_counts()"
   ]
  },
  {
   "cell_type": "code",
   "execution_count": 15,
   "metadata": {
    "ExecuteTime": {
     "end_time": "2020-06-16T12:17:14.192348Z",
     "start_time": "2020-06-16T12:17:14.187573Z"
    }
   },
   "outputs": [
    {
     "name": "stdout",
     "output_type": "stream",
     "text": [
      "PCC is  0.5002704164413196\n",
      "Accuracy to beat* is  0.6253380205516496\n",
      "*based on 1.25Pcc\n"
     ]
    }
   ],
   "source": [
    "r, cnt = np.unique(target, return_counts=True)\n",
    "pcc = sum([(c/len(target)) ** 2 for c in cnt])\n",
    "print('PCC is ', pcc)\n",
    "print('Accuracy to beat* is ', pcc * 1.25)\n",
    "print('*based on 1.25Pcc')"
   ]
  },
  {
   "cell_type": "markdown",
   "metadata": {},
   "source": [
    "### Plot the accuracy of training and test dataset"
   ]
  },
  {
   "cell_type": "code",
   "execution_count": 16,
   "metadata": {
    "ExecuteTime": {
     "end_time": "2020-06-16T12:18:08.257831Z",
     "start_time": "2020-06-16T12:17:14.193946Z"
    }
   },
   "outputs": [
    {
     "data": {
      "image/png": "[encoded data removed]",
      "text/plain": [
       "<Figure size 720x432 with 1 Axes>"
      ]
     },
     "metadata": {
      "needs_background": "light"
     },
     "output_type": "display_data"
    }
   ],
   "source": [
    "plot_accuracy(features, target, n_neighbors=50)"
   ]
  },
  {
   "cell_type": "markdown",
   "metadata": {},
   "source": [
    "Our oversampling approach was effective in reducing the Pcc and 1.25Pcc values of the **new dataset**. **However, we have reservations to the validity of our approach** since the observed plot here no longer follows the behavior shown in the other plots above. Specifically, the cost of beating the 1.25Pcc  is drastically lower accuracy (< 80%). The technique we employed thus requires further improvement and scrutiny."
   ]
  },
  {
   "cell_type": "markdown",
   "metadata": {},
   "source": [
    "## Discussion of Results"
   ]
  },
  {
   "cell_type": "markdown",
   "metadata": {},
   "source": [
    "From the sensitivity analysis, it can be seen that the following features are most correlated to the male infertility:\n",
    "\n",
    "1. **Smoking.** Several studies have linked tobacco to be correlated with decreased sperm concentration, decreased motility, fewer normally shaped sperm, and increased sperm DNA damage. This is reflected on the model wherein the infertility is sensitive to smoking features of the dataset. [verywellfamily.com](https://www.verywellfamily.com/male-fertility-and-smoking-1960256)\n",
    "\n",
    "2. **Childish Disease.** Some childish diseases (such as mumps, chicken pox) can cause orchitis later in adulthood that are known to impair the sperm production in the testis. [healthline.com](https://www.healthline.com/health/orchitis)\n",
    "\n",
    "3. **High fevers.** It is shown that the testicles is held further away from the body to regulate its temperature. However, in times when the testicles cannot maintain this ideal temperature (during high fevers), sperm production can stop or be hindered for a short time. [txfertility.com](https://txfertility.com/the-sperm-cycle-i-got-a-fever-and-the-only-prescription-is/)\n",
    "    \n",
    "4. **Surgical intervention.** Surgical interventions on the reproductive parts have also shown to have high sensitivity on the sample dataset. However, there have been no definitive studies that might correlate surgeries with male infertility. This might necessitate to have further researches. "
   ]
  },
  {
   "cell_type": "markdown",
   "metadata": {},
   "source": [
    "It was also found that the male infertility are less sensitive to the following features:\n",
    "1. **Age.** While it is known that male can still bear children even at an older age, a greater age reduces the overall chances of pregnancy due to sperm quality decreases. [betterhealth.gov](https://www.betterhealth.vic.gov.au/health/conditionsandtreatments/age-and-fertility#:~:text=Male%20fertility%20generally%20starts%20to,of%20miscarriage%20and%20fetal%20death.)\n",
    "\n",
    "2. **Number of hours sitting.** Increased number of hours sitting have a higher risk of Oligospermia which is a male fertility issue characterized by a low sperm production. This is correlated to the increased temperature of the scrotum when sitting on extended period of hours. [consumer.healthday.com](https://consumer.healthday.com/encyclopedia/fertility-19/infertility-news-412/lifestyle-and-fertility-643329.html)\n",
    "\n",
    "3. **Alcohol consumption.** Temporary decreases in sperm counts and testosterone levels have been correlated to increased alcohol consumption. The good news is that the effects are reversible once alcohol consumption stops. [healthline.com](https://www.healthline.com/health/does-alcohol-kill-sperm-2#effect-on-male-fertility)\n",
    "   \n",
    "4. **Accidental Trauma.** Serious accidents and traumas (but non testicular trauma are used in the dataset) also have less sensitivity to male infertility. There are also no insightful papers that can confirm trauma as contributory to sperm production and should be further researched.\n",
    "  \n",
    "5. **Season/ time of year.** It was found that men with normal sperm production had the better sperm (in terms of swimming speed and quality) in the winter compared to other seasons of the year. [reuters.com](https://www.reuters.com/article/us-sperm/even-for-sperm-there-is-a-season-idUSBRE9290IW20130310#:~:text=(Reuters)%20%2D%20Autumn%20is%20the,in%20winter%20and%20early%20spring.)"
   ]
  },
  {
   "cell_type": "markdown",
   "metadata": {},
   "source": [
    "Reference:\n",
    "1. Fertility Dataset; UCI Machine Learning Repository; https://archive.ics.uci.edu/ml/datasets/Fertility\n",
    "2. \"Semen Parameters can be Predicted from Environmental Factors and Lifestyle using Aritificial Intelligence Methods\" by: Jose L. Girela1, David Gil2, Magnus Johnsson, María José Gomez-Torres, and Joaquín De Juan"
   ]
  },
  {
   "cell_type": "code",
   "execution_count": null,
   "metadata": {},
   "outputs": [],
   "source": []
  }
 ],
 "metadata": {
  "hide_input": false,
  "kernelspec": {
   "display_name": "Python 3",
   "language": "python",
   "name": "python3"
  },
  "language_info": {
   "codemirror_mode": {
    "name": "ipython",
    "version": 3
   },
   "file_extension": ".py",
   "mimetype": "text/x-python",
   "name": "python",
   "nbconvert_exporter": "python",
   "pygments_lexer": "ipython3",
   "version": "3.7.6"
  },
  "latex_envs": {
   "LaTeX_envs_menu_present": true,
   "autoclose": false,
   "autocomplete": true,
   "bibliofile": "biblio.bib",
   "cite_by": "apalike",
   "current_citInitial": 1,
   "eqLabelWithNumbers": true,
   "eqNumInitial": 1,
   "hotkeys": {
    "equation": "Ctrl-E",
    "itemize": "Ctrl-I"
   },
   "labels_anchors": false,
   "latex_user_defs": false,
   "report_style_numbering": false,
   "user_envs_cfg": false
  }
 },
 "nbformat": 4,
 "nbformat_minor": 4
}
